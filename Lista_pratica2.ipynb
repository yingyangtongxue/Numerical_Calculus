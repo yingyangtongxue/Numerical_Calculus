{
  "nbformat": 4,
  "nbformat_minor": 0,
  "metadata": {
    "colab": {
      "name": "Lista_pratica2.ipynb",
      "provenance": [],
      "authorship_tag": "ABX9TyPNehSlBZR+x0zQnL2hdQrK",
      "include_colab_link": true
    },
    "kernelspec": {
      "name": "python3",
      "display_name": "Python 3"
    },
    "language_info": {
      "name": "python"
    }
  },
  "cells": [
    {
      "cell_type": "markdown",
      "metadata": {
        "id": "view-in-github",
        "colab_type": "text"
      },
      "source": [
        "<a href=\"https://colab.research.google.com/github/yingyangtongxue/Numerical_Calculus/blob/main/Lista_pratica2.ipynb\" target=\"_parent\"><img src=\"https://colab.research.google.com/assets/colab-badge.svg\" alt=\"Open In Colab\"/></a>"
      ]
    },
    {
      "cell_type": "code",
      "metadata": {
        "id": "ue2ZBHR2-Tx0"
      },
      "source": [
        "import numpy as np"
      ],
      "execution_count": null,
      "outputs": []
    },
    {
      "cell_type": "code",
      "metadata": {
        "id": "W3GybrGUvHJu"
      },
      "source": [
        "def square_matrix(A):\n",
        "    if A.shape[0] == A.shape[1]:\n",
        "        return True\n",
        "    return False\n",
        "\n",
        "def calc_error(x, x_ant): #calculo erro\n",
        "  dif = np.linalg.norm(x - x_ant)\n",
        "  base = np.linalg.norm(x)\n",
        "  return dif/base\n",
        "\n",
        "def row_criteria(A,n):\n",
        "    for i in range(n):\n",
        "        sum = 0\n",
        "        for j in range(i):\n",
        "            sum += A[i, j]\n",
        "        for j in range(i+1, n):\n",
        "            sum += A[i, j]\n",
        "        if sum / A[i, i] >= 1:\n",
        "            return False\n",
        "    return True\n",
        "\n",
        "def column_criteria(A,n):\n",
        "    for i in range(n):\n",
        "        sum = 0\n",
        "        for j in range(i):\n",
        "            sum += A[j, i]\n",
        "        for j in range(i+1, n):\n",
        "            sum += A[j, i]\n",
        "        if sum / A[j, i] >= 1:\n",
        "            return False\n",
        "    return True\n",
        "\n",
        "def sassenfeld(A,n):\n",
        "    coef = []\n",
        "    for i in range(n):\n",
        "        b = 0\n",
        "        for j in range(n):\n",
        "          if i==0 or i < j:\n",
        "            b += abs(A[i][j])\n",
        "          else:\n",
        "            b += abs(A[i][j])*coef[j]\n",
        "                                     \n",
        "        b /= A[i][i]\n",
        "        coef.append(b)\n",
        "    \n",
        "    maior = np.max(coef)\n",
        "    return True if maior < 1 else False \n",
        "\n",
        "def convergence_verifier(A,n):\n",
        "  return True if row_criteria(A,n) else True if sassenfeld(A,n) else True if column_criteria(A,n) else False"
      ],
      "execution_count": null,
      "outputs": []
    },
    {
      "cell_type": "markdown",
      "metadata": {
        "id": "JxrEfxCdruB-"
      },
      "source": [
        "Lista Prática: Métodos Iterativos para Sistemas Lineares e Aplicação de Decomposições Matriciais"
      ]
    },
    {
      "cell_type": "markdown",
      "metadata": {
        "id": "x-UUNoIirpc8"
      },
      "source": [
        "1) Crie algoritmos em Python para os métodos de Jacobi e Gauss-Seidel, e\n",
        "resolva os sistemas lineares abaixo:"
      ]
    },
    {
      "cell_type": "markdown",
      "metadata": {
        "id": "3g7hXeRVOTRK"
      },
      "source": [
        "**Método de Jacobi-Richardson**"
      ]
    },
    {
      "cell_type": "code",
      "metadata": {
        "id": "rSDve1y7L4n1"
      },
      "source": [
        "def raio_spectral(A):\n",
        "  autovalores = np.linalg.eig(A)[0]\n",
        "  return np.max(np.abs(autovalores))\n",
        "\n",
        "\n",
        "def jacobi(A,b,x,K=50,tolerancia=1e-3):\n",
        "  if not square_matrix(A): \n",
        "    return None\n",
        "  x = np.array(x) #chute inicial\n",
        "  x_ant = np.array(x)\n",
        "  d = np.diag(A) #diagonal A (vetor)\n",
        "  D = np.diag(d) #matriz com apenas elem diagonal\n",
        "  R = A - D #matriz sem diagonal\n",
        "  D_inv = np.diag(1/d) #matriz inv de d\n",
        "  count = 0\n",
        "  \n",
        "  T = -D_inv @ R\n",
        "  C = D_inv @ b\n",
        "\n",
        "  rho = raio_spectral(D_inv @ R)\n",
        "  if rho < 1:\n",
        "    for k in range(K):\n",
        "      x_ant = x\n",
        "      x = T @ x_ant + C\n",
        "      count+=1\n",
        "      if calc_error(x, x_ant) < tolerancia:\n",
        "        break\n",
        "  else:\n",
        "    print(\"raio espectral >= 1 (NÃO CONVERGE)\")\n",
        "  \n",
        "  return x, count, erro\n"
      ],
      "execution_count": null,
      "outputs": []
    },
    {
      "cell_type": "markdown",
      "metadata": {
        "id": "hqBkmfCDB8sk"
      },
      "source": [
        "**Método de Gauss-Seidel**"
      ]
    },
    {
      "cell_type": "code",
      "metadata": {
        "id": "QtUTg8kByIPG"
      },
      "source": [
        "def gauss_seidel(A,b,x,K=50,tolerancia=1e-3):\n",
        "    if not square_matrix(A): \n",
        "      return None\n",
        "    n = len(A)      \n",
        "    if not convergence_verifier(A,n): \n",
        "      return None\n",
        "\n",
        "    x_ant = np.zeros(n)\n",
        "    count = 0\n",
        "    for k in range(K):\n",
        "      if not (x.all() == 0 or calc_error(x, x_ant) > tolerancia):\n",
        "          for i in range(n):\n",
        "              x_ant = x.copy()\n",
        "              sum = 0\n",
        "              for j in range(i):\n",
        "                  sum += x[j] * A[i, j]\n",
        "              for j in range(i+1, n):\n",
        "                  sum += x[j] * A[i, j]\n",
        "              x[i] = (b[i] - sum) / A[i, i]\n",
        "      else:\n",
        "        break\n",
        "    return x, k+1, calc_error(x, x_ant)"
      ],
      "execution_count": null,
      "outputs": []
    },
    {
      "cell_type": "markdown",
      "metadata": {
        "id": "Mi-L-5Git-vD"
      },
      "source": [
        "1-a)"
      ]
    },
    {
      "cell_type": "code",
      "metadata": {
        "colab": {
          "base_uri": "https://localhost:8080/"
        },
        "id": "F6EZ4A9YnNXg",
        "outputId": "6a13946e-9826-4bcd-b56c-4810b6744915"
      },
      "source": [
        "A = np.array([[3,-1,1],\n",
        "              [3,6,2],\n",
        "              [3,3,7]])\n",
        "\n",
        "b = np.array([1,0,4])\n",
        "x = [0, 0, 0]\n",
        "\n",
        "x,count, erro = jacobi(A,b,x,K=50,tolerancia=1e-3)\n",
        "print(\"RESPOSTA:\\n1-a)\\nJacobi:\\n\")\n",
        "print(\"Valores de x: \",x,\"\\nnúmero de iterações: \", count,\"\\nErro:\",erro)\n",
        "\n",
        "print(\"\\nGauss-Seidel:\\n\")\n",
        "x,count, erro = gauss_seidel(A,b,x,K=50,tolerancia=1e-3)\n",
        "print(\"Valores de x: \",x,\"\\nnúmero de iterações: \", count,\"\\nErro:\",erro)"
      ],
      "execution_count": null,
      "outputs": [
        {
          "output_type": "stream",
          "text": [
            "RESPOSTA:\n",
            "1-a)\n",
            "Jacobi:\n",
            "\n",
            "Valores de x:  [ 0.03507839 -0.23692617  0.65780145] \n",
            "número de iterações:  10 \n",
            "Erro: 1.0\n",
            "\n",
            "Gauss-Seidel:\n",
            "\n",
            "Valores de x:  [ 0.03507839 -0.23692617  0.65780145] \n",
            "número de iterações:  1 \n",
            "Erro: 1.0\n"
          ],
          "name": "stdout"
        }
      ]
    },
    {
      "cell_type": "markdown",
      "metadata": {
        "id": "DPpfMJQ9w8hj"
      },
      "source": [
        "1-b)"
      ]
    },
    {
      "cell_type": "code",
      "metadata": {
        "colab": {
          "base_uri": "https://localhost:8080/"
        },
        "id": "PxNMUtfWvjL2",
        "outputId": "56485042-7932-4374-cff9-8014997574fb"
      },
      "source": [
        "A = np.array([[10, -1, 0],\n",
        "              [-1, 10, -2],\n",
        "              [0, -2, 10]])\n",
        " \n",
        "b = np.array([9, 7, 6])\n",
        "x = [0, 0, 0]\n",
        "\n",
        "x,count, erro = jacobi(A,b,x,K=50,tolerancia=1e-3)\n",
        "print(\"RESPOSTA:\\n1-b)\\nJacobi:\\n\")\n",
        "print(\"Valores de x: \",x,\"\\nnúmero de iterações: \", count,\"\\nErro:\",erro)\n",
        "\n",
        "print(\"\\nGauss-Seidel:\\n\")\n",
        "x,count, erro = gauss_seidel(A,b,x,K=50,tolerancia=1e-3)\n",
        "print(\"Valores de x: \",x,\"\\nnúmero de iterações: \", count,\"\\nErro:\",erro)"
      ],
      "execution_count": null,
      "outputs": [
        {
          "output_type": "stream",
          "text": [
            "RESPOSTA:\n",
            "1-b)\n",
            "Jacobi:\n",
            "\n",
            "Valores de x:  [0.995725 0.957775 0.79145 ] \n",
            "número de iterações:  6 \n",
            "Erro: 1.0\n",
            "\n",
            "Gauss-Seidel:\n",
            "\n",
            "Valores de x:  [0.995725 0.957775 0.79145 ] \n",
            "número de iterações:  1 \n",
            "Erro: 1.0\n"
          ],
          "name": "stdout"
        }
      ]
    },
    {
      "cell_type": "markdown",
      "metadata": {
        "id": "xvK4HZ_7MVri"
      },
      "source": [
        "1-c)\n"
      ]
    },
    {
      "cell_type": "code",
      "metadata": {
        "colab": {
          "base_uri": "https://localhost:8080/"
        },
        "id": "PJJPRdtXKjA0",
        "outputId": "a76a12e6-8f40-4339-97de-6316b133b556"
      },
      "source": [
        "A = np.array([[10, 5, 0, 0],\n",
        "              [5, 10, -4, 0],\n",
        "              [0, -4, 8, -1],\n",
        "              [0, 0, -1, 5]])\n",
        "  \n",
        "b = np.array([6, 25, -11, -11])\n",
        "x = [0, 0, 0, 0]  \n",
        "\n",
        "x,count, erro = jacobi(A,b,x,K=50,tolerancia=1e-3)\n",
        "print(\"RESPOSTA:\\n1-c)\\nJacobi:\\n\")\n",
        "print(\"Valores de x: \",x,\"\\nnúmero de iterações: \", count,\"\\nErro:\",erro)\n",
        "\n",
        "print(\"\\nGauss-Seidel:\\n\")\n",
        "x,count, erro = gauss_seidel(A,b,x,K=50,tolerancia=1e-3)\n",
        "print(\"Valores de x: \",x,\"\\nnúmero de iterações: \", count,\"\\nErro:\",erro)"
      ],
      "execution_count": null,
      "outputs": [
        {
          "output_type": "stream",
          "text": [
            "RESPOSTA:\n",
            "1-c)\n",
            "Jacobi:\n",
            "\n",
            "Valores de x:  [-0.79647414  2.79502659 -0.26006363 -2.251826  ] \n",
            "número de iterações:  19 \n",
            "Erro: 1.0\n",
            "\n",
            "Gauss-Seidel:\n",
            "\n",
            "Valores de x:  [-0.79647414  2.79502659 -0.26006363 -2.251826  ] \n",
            "número de iterações:  1 \n",
            "Erro: 1.0\n"
          ],
          "name": "stdout"
        }
      ]
    },
    {
      "cell_type": "markdown",
      "metadata": {
        "id": "kmGORaGPMbdr"
      },
      "source": [
        "1-d)"
      ]
    },
    {
      "cell_type": "code",
      "metadata": {
        "colab": {
          "base_uri": "https://localhost:8080/"
        },
        "id": "LgIeNRXeMdsC",
        "outputId": "4174072c-ae89-4dde-d14f-34d52418e3f3"
      },
      "source": [
        "A = np.array([[4, 1, -1, 1],\n",
        "              [1, 4, -1, -1],\n",
        "              [-1, -1, 5, 1],\n",
        "              [1, -1, 1, 3]])\n",
        "    \n",
        "b = np.array([-2, -1, 0, 1])\n",
        "x = [0, 0, 0, 0]  \n",
        "\n",
        "x,count, erro = jacobi(A,b,x,K=50,tolerancia=1e-3)\n",
        "print(\"RESPOSTA:\\n1-d)\\nJacobi:\\n\")\n",
        "print(\"Valores de x: \",x,\"\\nnúmero de iterações: \", count,\"\\nErro:\",erro)\n",
        "\n",
        "print(\"\\nGauss-Seidel:\\n\")\n",
        "x,count, erro = gauss_seidel(A,b,x,K=50,tolerancia=1e-3)\n",
        "print(\"Valores de x: \",x,\"\\nnúmero de iterações: \", count,\"\\nErro:\",erro)"
      ],
      "execution_count": null,
      "outputs": [
        {
          "output_type": "stream",
          "text": [
            "RESPOSTA:\n",
            "1-d)\n",
            "Jacobi:\n",
            "\n",
            "Valores de x:  [-0.7526538   0.04047044 -0.28037421  0.69086195] \n",
            "número de iterações:  13 \n",
            "Erro: 1.0\n",
            "\n",
            "Gauss-Seidel:\n",
            "\n",
            "Valores de x:  [-0.7526538   0.04047044 -0.28037421  0.69086195] \n",
            "número de iterações:  1 \n",
            "Erro: 1.0\n"
          ],
          "name": "stdout"
        }
      ]
    },
    {
      "cell_type": "markdown",
      "metadata": {
        "id": "WqpFqd4iMvBO"
      },
      "source": [
        "1-e)"
      ]
    },
    {
      "cell_type": "code",
      "metadata": {
        "colab": {
          "base_uri": "https://localhost:8080/"
        },
        "id": "nNP5rtJZMw_g",
        "outputId": "28e4b540-9d09-47a3-b8f0-2cc5051a2560"
      },
      "source": [
        "A = np.array([[4, 1, 1, 0, 1],\n",
        "              [-1, -3, 1, 1, 0],\n",
        "              [2, 1, 5, -1, -1],\n",
        "              [-1, -1, -1, 4, 0],\n",
        "              [0, 2, -1, 1, 4]])\n",
        "      \n",
        "b = np.array([6, 6, 6, 6, 6])\n",
        "x = [0, 0, 0, 0, 0]\n",
        "\n",
        "x,count, erro = jacobi(A,b,x,K=50,tolerancia=1e-3)\n",
        "print(\"RESPOSTA:\\n1-e)\\nJacobi:\\n\")\n",
        "print(\"Valores de x: \",x,\"\\nnúmero de iterações: \", count,\"\\nErro:\",erro)\n",
        "\n",
        "print(\"\\nGauss-Seidel:\\n\")\n",
        "x,count, erro = gauss_seidel(A,b,x,K=50,tolerancia=1e-3)\n",
        "print(\"Valores de x: \",x,\"\\nnúmero de iterações: \", count,\"\\nErro:\",erro)\n"
      ],
      "execution_count": null,
      "outputs": [
        {
          "output_type": "stream",
          "text": [
            "RESPOSTA:\n",
            "1-e)\n",
            "Jacobi:\n",
            "\n",
            "Valores de x:  [ 0.78729533 -1.00286688  1.86536849  1.91281957  1.98914507] \n",
            "número de iterações:  11 \n",
            "Erro: 1.0\n",
            "\n",
            "Gauss-Seidel:\n",
            "\n",
            "Valores de x:  [ 0.78729533 -1.00286688  1.86536849  1.91281957  1.98914507] \n",
            "número de iterações:  1 \n",
            "Erro: 1.0\n"
          ],
          "name": "stdout"
        }
      ]
    },
    {
      "cell_type": "markdown",
      "metadata": {
        "id": "u1JtJciDNyg3"
      },
      "source": [
        "1-f)"
      ]
    },
    {
      "cell_type": "code",
      "metadata": {
        "colab": {
          "base_uri": "https://localhost:8080/"
        },
        "id": "u7jnHQpaN0J6",
        "outputId": "c04e444c-216f-4af2-c520-e2e1450640db"
      },
      "source": [
        "A = np.array([[4, -1, 0, -1, 0, 0],\n",
        "              [-1, 4, -1, 0, -1, 0],\n",
        "              [0, -1, 4, 0, 0, -1],\n",
        "              [-1, 0, 0, 4, -1, 0],\n",
        "              [0, -1, 0, -1, 4, -1],\n",
        "              [0, 0, -1, 0, -1, 4]])\n",
        "\n",
        "b = np.array([0, 5, 0, 6, -2, 6])\n",
        "x = [0, 0, 0, 0, 0, 0] \n",
        "\n",
        "x,count, erro = jacobi(A,b,x,K=50,tolerancia=1e-3)\n",
        "print(\"RESPOSTA:\\n1-f)\\nJacobi:\\n\")\n",
        "print(\"Valores de x: \",x,\"\\nnúmero de iterações: \", count,\"\\nErro:\",erro)\n",
        "\n",
        "print(\"\\nGauss-Seidel:\\n\")\n",
        "x,count, erro = gauss_seidel(A,b,x,K=50,tolerancia=1e-3)\n",
        "print(\"Valores de x: \",x,\"\\nnúmero de iterações: \", count,\"\\nErro:\",erro)"
      ],
      "execution_count": null,
      "outputs": [
        {
          "output_type": "stream",
          "text": [
            "RESPOSTA:\n",
            "1-f)\n",
            "Jacobi:\n",
            "\n",
            "Valores de x:  [0.99927348 1.99794508 0.99927348 1.99854695 0.99897254 1.99854695] \n",
            "número de iterações:  14 \n",
            "Erro: 1.0\n",
            "\n",
            "Gauss-Seidel:\n",
            "\n",
            "Valores de x:  [0.99927348 1.99794508 0.99927348 1.99854695 0.99897254 1.99854695] \n",
            "número de iterações:  1 \n",
            "Erro: 1.0\n"
          ],
          "name": "stdout"
        }
      ]
    },
    {
      "cell_type": "markdown",
      "metadata": {
        "id": "dzyQkb48QqyM"
      },
      "source": [
        "2)"
      ]
    },
    {
      "cell_type": "code",
      "metadata": {
        "id": "a0n8iMl-Qn4g"
      },
      "source": [
        "def gerarMatrix(n):\n",
        "  x = np.linspace(0,1, n)\n",
        "  x_, y_ = np.meshgrid(x, x)\n",
        "  A = (2*n * np.random.rand(n,n))/(n**(2.6)*(x_ - y_)**2 + 1)\n",
        "  return A\n",
        "\n",
        "def print_matrix(M):\n",
        "  for i in M:\n",
        "    print('',*np.round(i,4), sep='\\t')\n",
        "\n",
        "def row_sums(M):\n",
        "    b = []    \n",
        "    for row in M: \n",
        "        row_sum = 0\n",
        "        for element in row: \n",
        "            row_sum += element  \n",
        "        b.append(row_sum)  \n",
        "    return b    "
      ],
      "execution_count": null,
      "outputs": []
    },
    {
      "cell_type": "code",
      "metadata": {
        "id": "AP1hrYKhtrxh",
        "colab": {
          "base_uri": "https://localhost:8080/"
        },
        "outputId": "0c243729-0615-45a4-c556-2cde0b064090"
      },
      "source": [
        "print(\"RESPOSTA:\\n\")\n",
        "\n",
        "A = gerarMatrix(10)\n",
        "print(\"Matriz 1:\\n\")\n",
        "print_matrix(A)\n",
        "\n",
        "b = row_sums(A)\n",
        "print(\"\\nb = \",b)\n",
        "\n",
        "x = np.zeros(len(b))\n",
        "\n",
        "\n",
        "x,count, erro = jacobi(A,b,x,K=50,tolerancia=1e-3)\n",
        "print(\"\\nMatriz 1)\\nJacobi:\\n\")\n",
        "print(\"Valores de x: \",x,\"\\nnúmero de iterações: \", count,\"\\nErro:\",erro)\n",
        "\n",
        "print(\"\\nGauss-Seidel:\\n\")\n",
        "x,count, erro = gauss_seidel(A,b,x,K=50,tolerancia=1e-3)\n",
        "print(\"Valores de x: \",x,\"\\nnúmero de iterações: \", count,\"\\nErro:\",erro)"
      ],
      "execution_count": null,
      "outputs": [
        {
          "output_type": "stream",
          "text": [
            "RESPOSTA:\n",
            "\n",
            "Matriz 1:\n",
            "\n",
            "\t8.1953\t2.3773\t0.2925\t0.3064\t0.2401\t0.0796\t0.0401\t0.0695\t0.0267\t0.0483\n",
            "\t2.787\t14.6199\t0.4446\t0.2995\t0.3383\t0.0475\t0.008\t0.1024\t0.0363\t0.012\n",
            "\t0.4616\t1.3257\t14.9882\t1.9282\t0.765\t0.1262\t0.0578\t0.0171\t0.0107\t0.0532\n",
            "\t0.1812\t0.6855\t2.5611\t10.1294\t0.8779\t0.0824\t0.1249\t0.1092\t0.0986\t0.0504\n",
            "\t0.1133\t0.1443\t0.5014\t0.8365\t8.0361\t2.225\t0.4277\t0.144\t0.1195\t0.1613\n",
            "\t0.0426\t0.2408\t0.3714\t0.3634\t1.9819\t13.9855\t3.2877\t0.7142\t0.0762\t0.0888\n",
            "\t0.1101\t0.0285\t0.0968\t0.3012\t0.5413\t3.3584\t18.5001\t3.0594\t0.419\t0.4142\n",
            "\t0.0001\t0.0954\t0.065\t0.2346\t0.0424\t0.3614\t2.2238\t7.9483\t3.0179\t0.3884\n",
            "\t0.0607\t0.028\t0.0665\t0.0644\t0.0435\t0.1249\t0.8933\t1.2512\t9.0114\t2.7659\n",
            "\t0.0152\t0.0302\t0.0629\t0.0336\t0.0272\t0.0776\t0.2612\t0.9146\t0.7069\t6.0722\n",
            "\n",
            "b =  [11.675738690695043, 18.695415613255303, 19.733758535393836, 14.900523319482556, 12.708922192385808, 21.152420599709053, 26.828831569110577, 14.377153152037128, 14.309940097006248, 8.20156897809547]\n",
            "\n",
            "Matriz 1)\n",
            "Jacobi:\n",
            "\n",
            "Valores de x:  [0.99989084 0.99991917 0.99989558 0.99984162 0.99967901 0.99965495\n",
            " 0.99962398 0.99939025 0.99955229 0.99967366] \n",
            "número de iterações:  12 \n",
            "Erro: 1.0\n",
            "\n",
            "Gauss-Seidel:\n",
            "\n",
            "Valores de x:  [0.99989084 0.99991917 0.99989558 0.99984162 0.99967901 0.99965495\n",
            " 0.99962398 0.99939025 0.99955229 0.99967366] \n",
            "número de iterações:  1 \n",
            "Erro: 1.0\n"
          ],
          "name": "stdout"
        }
      ]
    },
    {
      "cell_type": "code",
      "metadata": {
        "colab": {
          "base_uri": "https://localhost:8080/"
        },
        "id": "Quu7I-9lRouo",
        "outputId": "e00dd1e3-9996-4067-c8a4-2454e08d83c9"
      },
      "source": [
        "print(\"RESPOSTA:\\n\")\n",
        "\n",
        "A = gerarMatrix(10)\n",
        "print(\"Matriz 2:\\n\")\n",
        "print_matrix(A)\n",
        "\n",
        "b = row_sums(A)\n",
        "print(\"\\nb = \",b)\n",
        "\n",
        "x = np.zeros(len(b))\n",
        "\n",
        "\n",
        "x,count, erro = jacobi(A,b,x,K=50,tolerancia=1e-3)\n",
        "print(\"\\nMatriz 2)\\nJacobi:\\n\")\n",
        "print(\"Valores de x: \",x,\"\\nnúmero de iterações: \", count,\"\\nErro:\",erro)\n",
        "\n",
        "print(\"\\nGauss-Seidel:\\n\")\n",
        "x,count, erro = gauss_seidel(A,b,x,K=50,tolerancia=1e-3)\n",
        "print(\"Valores de x: \",x,\"\\nnúmero de iterações: \", count,\"\\nErro:\",erro)"
      ],
      "execution_count": null,
      "outputs": [
        {
          "output_type": "stream",
          "text": [
            "RESPOSTA:\n",
            "\n",
            "Matriz 2:\n",
            "\n",
            "\t12.5819\t3.2591\t0.2649\t0.1383\t0.0617\t0.016\t0.03\t0.0363\t0.0538\t0.0183\n",
            "\t0.2709\t17.7328\t2.9225\t0.6313\t0.4355\t0.0378\t0.1118\t0.0868\t0.082\t0.0204\n",
            "\t0.3421\t1.099\t8.8748\t1.8618\t0.547\t0.1872\t0.0829\t0.1455\t0.038\t0.0147\n",
            "\t0.1752\t0.2001\t1.9893\t12.9961\t1.7814\t0.7348\t0.0189\t0.2101\t0.0712\t0.0075\n",
            "\t0.0998\t0.112\t0.4456\t1.1517\t17.2898\t2.7006\t0.2465\t0.2903\t0.135\t0.0492\n",
            "\t0.0286\t0.083\t0.2928\t0.6748\t1.422\t17.726\t1.0595\t0.7848\t0.113\t0.1224\n",
            "\t0.0795\t0.1035\t0.1382\t0.1076\t0.2101\t3.2896\t9.5012\t1.027\t0.9022\t0.1821\n",
            "\t0.0023\t0.0195\t0.1573\t0.1057\t0.4021\t0.6057\t3.354\t17.0664\t2.6426\t0.4863\n",
            "\t0.0057\t0.0214\t0.0729\t0.0054\t0.1934\t0.1416\t0.425\t0.0319\t16.7633\t2.1385\n",
            "\t0.0261\t0.0092\t0.0584\t0.107\t0.0833\t0.2289\t0.3273\t0.2192\t2.0748\t8.0136\n",
            "\n",
            "b =  [16.46035660187281, 22.331937773979362, 13.192878486874019, 18.184548919231126, 22.520565972966267, 22.306927469543652, 15.541001909511353, 24.841692093675533, 19.798990933374277, 11.147713967908697]\n",
            "\n",
            "Matriz 2)\n",
            "Jacobi:\n",
            "\n",
            "Valores de x:  [1.00008149 1.00009078 1.00013992 1.00011932 1.0000855  1.00008408\n",
            " 1.00015641 1.00013148 1.0000465  1.00007885] \n",
            "número de iterações:  9 \n",
            "Erro: 1.0\n",
            "\n",
            "Gauss-Seidel:\n",
            "\n",
            "Valores de x:  [1.00008149 1.00009078 1.00013992 1.00011932 1.0000855  1.00008408\n",
            " 1.00015641 1.00013148 1.0000465  1.00007885] \n",
            "número de iterações:  1 \n",
            "Erro: 1.0\n"
          ],
          "name": "stdout"
        }
      ]
    },
    {
      "cell_type": "code",
      "metadata": {
        "colab": {
          "base_uri": "https://localhost:8080/"
        },
        "id": "a5UAECwBRtxj",
        "outputId": "9cabf7d1-b65d-4e73-a906-283cfbd30ad4"
      },
      "source": [
        "print(\"RESPOSTA:\\n\")\n",
        "\n",
        "A = gerarMatrix(10)\n",
        "print(\"Matriz 3:\\n\")\n",
        "print_matrix(A)\n",
        "\n",
        "b = row_sums(A)\n",
        "print(\"\\nb = \",b)\n",
        "\n",
        "x = np.zeros(len(b))\n",
        "\n",
        "\n",
        "x,count, erro = jacobi(A,b,x,K=50,tolerancia=1e-3)\n",
        "print(\"\\nMatriz 3)\\nJacobi:\\n\")\n",
        "print(\"Valores de x: \",x,\"\\nnúmero de iterações: \", count,\"\\nErro:\",erro)\n",
        "\n",
        "print(\"\\nGauss-Seidel:\\n\")\n",
        "x,count, erro = gauss_seidel(A,b,x,K=50,tolerancia=1e-3)\n",
        "print(\"Valores de x: \",x,\"\\nnúmero de iterações: \", count,\"\\nErro:\",erro)"
      ],
      "execution_count": null,
      "outputs": [
        {
          "output_type": "stream",
          "text": [
            "RESPOSTA:\n",
            "\n",
            "Matriz 3:\n",
            "\n",
            "\t13.703\t2.2333\t0.8714\t0.0501\t0.0372\t0.1498\t0.0482\t0.0222\t0.0174\t0.0478\n",
            "\t2.7608\t13.1893\t2.0672\t0.1134\t0.3614\t0.0238\t0.0087\t0.0762\t0.0579\t0.0046\n",
            "\t0.313\t0.2811\t7.9905\t2.6995\t0.3075\t0.1307\t0.1422\t0.0539\t0.0286\t0.0158\n",
            "\t0.0754\t0.3677\t1.229\t17.9403\t1.1117\t0.6902\t0.2435\t0.0517\t0.0587\t0.0969\n",
            "\t0.0321\t0.1606\t0.0393\t2.733\t9.3886\t2.4314\t0.7495\t0.2665\t0.217\t0.1481\n",
            "\t0.1457\t0.0127\t0.339\t0.8511\t2.2263\t18.838\t1.5068\t0.6163\t0.247\t0.1524\n",
            "\t0.0292\t0.1236\t0.0465\t0.0305\t0.3357\t1.7274\t10.8707\t1.5534\t0.1266\t0.3411\n",
            "\t0.0588\t0.0409\t0.1107\t0.0138\t0.0536\t0.0174\t3.1988\t16.7693\t1.4991\t0.3985\n",
            "\t0.0179\t0.0559\t0.0529\t0.1199\t0.0396\t0.2485\t0.5465\t0.5144\t16.4336\t2.9574\n",
            "\t0.0091\t0.0472\t0.0722\t0.1019\t0.1329\t0.0866\t0.1287\t0.4233\t2.0649\t5.6479\n",
            "\n",
            "b =  [17.180376511378846, 18.663404250640927, 11.96277860707461, 21.86499151146522, 16.1660421590221, 24.93516088340318, 15.18473563198641, 22.160812328822786, 20.986575286411995, 8.714697922567481]\n",
            "\n",
            "Matriz 3)\n",
            "Jacobi:\n",
            "\n",
            "Valores de x:  [1.00011413 1.00016494 1.0001816  1.00011816 1.00028561 1.00017303\n",
            " 1.00018126 1.00014629 1.00014457 1.00021945] \n",
            "número de iterações:  9 \n",
            "Erro: 1.0\n",
            "\n",
            "Gauss-Seidel:\n",
            "\n",
            "Valores de x:  [1.00011413 1.00016494 1.0001816  1.00011816 1.00028561 1.00017303\n",
            " 1.00018126 1.00014629 1.00014457 1.00021945] \n",
            "número de iterações:  1 \n",
            "Erro: 1.0\n"
          ],
          "name": "stdout"
        }
      ]
    },
    {
      "cell_type": "code",
      "metadata": {
        "colab": {
          "base_uri": "https://localhost:8080/"
        },
        "id": "nZe4mFDORxRv",
        "outputId": "442c27c5-73d7-4b91-cfbb-626571870087"
      },
      "source": [
        "print(\"RESPOSTA:\\n\")\n",
        "\n",
        "A = gerarMatrix(10)\n",
        "print(\"Matriz 4:\\n\")\n",
        "print_matrix(A)\n",
        "\n",
        "b = row_sums(A)\n",
        "print(\"\\nb = \",b)\n",
        "\n",
        "x = np.zeros(len(b))\n",
        "\n",
        "\n",
        "x,count, erro = jacobi(A,b,x,K=50,tolerancia=1e-3)\n",
        "print(\"\\nMatriz 4)\\nJacobi:\\n\")\n",
        "print(\"Valores de x: \",x,\"\\nnúmero de iterações: \", count,\"\\nErro:\",erro)\n",
        "\n",
        "print(\"\\nGauss-Seidel:\\n\")\n",
        "x,count, erro = gauss_seidel(A,b,x,K=50,tolerancia=1e-3)\n",
        "print(\"Valores de x: \",x,\"\\nnúmero de iterações: \", count,\"\\nErro:\",erro)"
      ],
      "execution_count": null,
      "outputs": [
        {
          "output_type": "stream",
          "text": [
            "RESPOSTA:\n",
            "\n",
            "Matriz 4:\n",
            "\n",
            "\t7.7731\t2.1378\t0.3828\t0.0809\t0.0115\t0.0327\t0.0315\t0.0245\t0.0437\t0.0452\n",
            "\t2.3406\t8.7172\t3.184\t0.1842\t0.116\t0.0427\t0.0989\t0.0351\t0.0456\t0.0027\n",
            "\t0.475\t2.7646\t16.4815\t0.9703\t0.644\t0.3169\t0.0471\t0.1\t0.086\t0.0442\n",
            "\t0.2649\t0.6862\t1.9683\t16.8838\t3.045\t0.1857\t0.1472\t0.1846\t0.0661\t0.0799\n",
            "\t0.1307\t0.2713\t0.757\t0.8547\t14.6621\t0.6782\t0.4329\t0.0144\t0.0743\t0.0259\n",
            "\t0.1329\t0.1003\t0.1688\t0.1809\t2.6723\t9.578\t2.0314\t0.1865\t0.016\t0.2497\n",
            "\t0.0446\t0.0392\t0.242\t0.1551\t0.1768\t2.4779\t14.1396\t0.9827\t0.9548\t0.0957\n",
            "\t0.0238\t0.0764\t0.1556\t0.1841\t0.1662\t0.4425\t3.1053\t13.035\t1.9266\t0.3305\n",
            "\t0.0119\t0.0567\t0.0333\t0.1007\t0.1414\t0.3355\t0.9192\t1.1733\t11.3965\t2.5813\n",
            "\t0.0159\t0.0543\t0.0377\t0.0136\t0.0071\t0.1472\t0.0086\t0.0355\t3.0356\t5.5738\n",
            "\n",
            "b =  [10.563680339523925, 14.766965800224908, 21.929697608504192, 23.511868134103576, 17.90145617289331, 15.316829366537501, 19.308266879663947, 19.445921687990364, 16.749837426520273, 8.929285466065814]\n",
            "\n",
            "Matriz 4)\n",
            "Jacobi:\n",
            "\n",
            "Valores de x:  [1.00014024 1.00019449 1.00011052 1.00009162 1.00006242 1.0001409\n",
            " 1.00012958 1.00017707 1.00021953 1.00028405] \n",
            "número de iterações:  11 \n",
            "Erro: 1.0\n",
            "\n",
            "Gauss-Seidel:\n",
            "\n",
            "Valores de x:  [1.00014024 1.00019449 1.00011052 1.00009162 1.00006242 1.0001409\n",
            " 1.00012958 1.00017707 1.00021953 1.00028405] \n",
            "número de iterações:  1 \n",
            "Erro: 1.0\n"
          ],
          "name": "stdout"
        }
      ]
    },
    {
      "cell_type": "code",
      "metadata": {
        "colab": {
          "base_uri": "https://localhost:8080/"
        },
        "id": "QvNGxOdCR1OA",
        "outputId": "60221156-e866-4436-fe5a-3564a34e8600"
      },
      "source": [
        "print(\"RESPOSTA:\\n\")\n",
        "\n",
        "A = gerarMatrix(10)\n",
        "print(\"Matriz 5:\\n\")\n",
        "print_matrix(A)\n",
        "\n",
        "b = row_sums(A)\n",
        "print(\"\\nb = \",b)\n",
        "\n",
        "x = np.zeros(len(b))\n",
        "\n",
        "\n",
        "x,count, erro = jacobi(A,b,x,K=50,tolerancia=1e-3)\n",
        "print(\"\\nMatriz 5)\\nJacobi:\\n\")\n",
        "print(\"Valores de x: \",x,\"\\nnúmero de iterações: \", count,\"\\nErro:\",erro)\n",
        "\n",
        "print(\"\\nGauss-Seidel:\\n\")\n",
        "x,count, erro = gauss_seidel(A,b,x,K=50,tolerancia=1e-3)\n",
        "print(\"Valores de x: \",x,\"\\nnúmero de iterações: \", count,\"\\nErro:\",erro)"
      ],
      "execution_count": null,
      "outputs": [
        {
          "output_type": "stream",
          "text": [
            "RESPOSTA:\n",
            "\n",
            "Matriz 5:\n",
            "\n",
            "\t18.7209\t0.8983\t0.2112\t0.2907\t0.074\t0.1612\t0.0538\t0.0772\t0.0244\t0.0315\n",
            "\t1.3839\t9.6892\t2.6113\t0.1447\t0.2591\t0.1949\t0.0252\t0.0437\t0.0786\t0.0399\n",
            "\t0.1577\t3.2234\t6.4088\t1.3594\t0.9017\t0.226\t0.0599\t0.1066\t0.0911\t0.033\n",
            "\t0.2723\t0.2805\t1.3535\t7.872\t0.783\t0.1578\t0.3739\t0.0338\t0.0529\t0.0722\n",
            "\t0.1066\t0.0296\t0.3417\t0.2181\t19.5908\t3.1275\t0.4412\t0.0036\t0.1611\t0.0024\n",
            "\t0.084\t0.0524\t0.3947\t0.1682\t3.2083\t5.4573\t0.0934\t0.198\t0.2903\t0.0867\n",
            "\t0.1048\t0.1228\t0.0075\t0.0232\t0.2294\t1.3338\t16.7007\t2.1938\t0.0526\t0.2606\n",
            "\t0.0004\t0.021\t0.0815\t0.0416\t0.2664\t0.5098\t0.2832\t9.0903\t2.6022\t0.8992\n",
            "\t0.052\t0.0682\t0.0937\t0.124\t0.0666\t0.013\t0.4101\t3.2977\t13.3983\t2.4038\n",
            "\t0.0095\t0.0267\t0.0042\t0.0262\t0.044\t0.0083\t0.0331\t0.0452\t2.0386\t7.7419\n",
            "\n",
            "b =  [20.543246009483205, 14.470542070903331, 12.567533700104482, 11.251810494477226, 24.022537516388624, 10.033336046863049, 21.02923077854639, 13.795596253953173, 19.927422961057975, 9.97760990391141]\n",
            "\n",
            "Matriz 5)\n",
            "Jacobi:\n",
            "\n",
            "Valores de x:  [0.99994773 0.99970852 0.9995546  0.99977259 0.99989272 0.99975616\n",
            " 0.99991316 0.99986758 0.99988658 0.99993015] \n",
            "número de iterações:  12 \n",
            "Erro: 1.0\n",
            "\n",
            "Gauss-Seidel:\n",
            "\n",
            "Valores de x:  [0.99994773 0.99970852 0.9995546  0.99977259 0.99989272 0.99975616\n",
            " 0.99991316 0.99986758 0.99988658 0.99993015] \n",
            "número de iterações:  1 \n",
            "Erro: 1.0\n"
          ],
          "name": "stdout"
        }
      ]
    },
    {
      "cell_type": "code",
      "metadata": {
        "colab": {
          "base_uri": "https://localhost:8080/"
        },
        "id": "bQ7ljoIAR5vO",
        "outputId": "b7600a15-59d2-4d42-bda7-cb10375be054"
      },
      "source": [
        "print(\"RESPOSTA:\\n\")\n",
        "\n",
        "A = gerarMatrix(10)\n",
        "print(\"Matriz 6:\\n\")\n",
        "print_matrix(A)\n",
        "\n",
        "b = row_sums(A)\n",
        "print(\"\\nb = \",b)\n",
        "\n",
        "x = np.zeros(len(b))\n",
        "\n",
        "\n",
        "x,count, erro = jacobi(A,b,x,K=50,tolerancia=1e-3)\n",
        "print(\"\\nMatriz 6)\\nJacobi:\\n\")\n",
        "print(\"Valores de x: \",x,\"\\nnúmero de iterações: \", count,\"\\nErro:\",erro)\n",
        "\n",
        "\n",
        "print(\"\\nGauss-Seidel:\\n\")\n",
        "x,count, erro = gauss_seidel(A,b,x,K=50,tolerancia=1e-3)\n",
        "print(\"Valores de x: \",x,\"\\nnúmero de iterações: \", count,\"\\nErro:\",erro)"
      ],
      "execution_count": null,
      "outputs": [
        {
          "output_type": "stream",
          "text": [
            "RESPOSTA:\n",
            "\n",
            "Matriz 6:\n",
            "\n",
            "\t2.2977\t0.0295\t0.0968\t0.0022\t0.0329\t0.1394\t0.0745\t0.0556\t0.0504\t0.0137\n",
            "\t2.9357\t17.4498\t2.3134\t0.7975\t0.2496\t0.2407\t0.0457\t0.0874\t0.064\t0.0148\n",
            "\t0.9393\t0.7106\t7.6626\t3.2994\t0.1161\t0.4192\t0.099\t0.0058\t0.051\t0.0025\n",
            "\t0.3158\t0.3282\t3.1735\t10.566\t0.232\t0.664\t0.3698\t0.1275\t0.0458\t0.05\n",
            "\t0.2401\t0.4136\t0.3774\t1.2508\t6.4372\t2.4498\t0.6114\t0.221\t0.0899\t0.0412\n",
            "\t0.0624\t0.1386\t0.3739\t0.5981\t0.3676\t17.9717\t1.7228\t0.4556\t0.3985\t0.0239\n",
            "\t0.0954\t0.123\t0.1619\t0.1745\t0.4919\t3.3021\t12.4346\t1.6694\t0.5746\t0.1586\n",
            "\t0.0354\t0.0058\t0.0394\t0.0779\t0.0473\t0.7335\t3.0542\t16.765\t0.1412\t0.518\n",
            "\t0.0187\t0.0767\t0.0648\t0.0348\t0.1824\t0.2311\t0.1926\t0.8481\t3.4957\t0.9546\n",
            "\t0.0101\t0.0395\t0.0458\t0.0622\t0.0766\t0.0719\t0.0061\t0.4336\t3.2778\t5.6759\n",
            "\n",
            "b =  [2.792647935840533, 24.19852010717554, 13.30544754558292, 15.872523440543691, 12.132340373443814, 22.113176384711153, 19.185764240879244, 21.41763539249427, 6.099527345066946, 9.699419840001042]\n",
            "\n",
            "Matriz 6)\n",
            "Jacobi:\n",
            "\n",
            "Valores de x:  [0.9998992  0.99984201 0.99969331 0.99974343 0.99968341 0.99988645\n",
            " 0.9998     0.99986696 0.99951818 0.99940026] \n",
            "número de iterações:  12 \n",
            "Erro: 1.0\n",
            "\n",
            "Gauss-Seidel:\n",
            "\n",
            "Valores de x:  [0.9998992  0.99984201 0.99969331 0.99974343 0.99968341 0.99988645\n",
            " 0.9998     0.99986696 0.99951818 0.99940026] \n",
            "número de iterações:  1 \n",
            "Erro: 1.0\n"
          ],
          "name": "stdout"
        }
      ]
    }
  ]
}